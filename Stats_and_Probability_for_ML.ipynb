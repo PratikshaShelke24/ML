{
  "nbformat": 4,
  "nbformat_minor": 0,
  "metadata": {
    "colab": {
      "provenance": [],
      "authorship_tag": "ABX9TyOes4ZQw3a4YlbKQPnuzTgC",
      "include_colab_link": true
    },
    "kernelspec": {
      "name": "python3",
      "display_name": "Python 3"
    },
    "language_info": {
      "name": "python"
    }
  },
  "cells": [
    {
      "cell_type": "markdown",
      "metadata": {
        "id": "view-in-github",
        "colab_type": "text"
      },
      "source": [
        "<a href=\"https://colab.research.google.com/github/PratikshaShelke24/ML/blob/main/Stats_and_Probability_for_ML.ipynb\" target=\"_parent\"><img src=\"https://colab.research.google.com/assets/colab-badge.svg\" alt=\"Open In Colab\"/></a>"
      ]
    },
    {
      "cell_type": "code",
      "execution_count": null,
      "metadata": {
        "id": "CHOV4spmL0ks"
      },
      "outputs": [],
      "source": [
        "#Stats and Probability for ML"
      ]
    },
    {
      "cell_type": "code",
      "source": [
        "#Mean (Average)"
      ],
      "metadata": {
        "id": "W4tQ3LaPL5aO"
      },
      "execution_count": null,
      "outputs": []
    },
    {
      "cell_type": "code",
      "source": [
        "import numpy as np\n",
        "data = [10,15,20,25,30]\n",
        "mean = np.mean(data)\n",
        "print(mean)\n"
      ],
      "metadata": {
        "colab": {
          "base_uri": "https://localhost:8080/"
        },
        "id": "SHXdpj0yL5dJ",
        "outputId": "b0e04cf8-718e-4a55-c507-48f64a4a8953"
      },
      "execution_count": 1,
      "outputs": [
        {
          "output_type": "stream",
          "name": "stdout",
          "text": [
            "20.0\n"
          ]
        }
      ]
    },
    {
      "cell_type": "code",
      "source": [
        "#Median"
      ],
      "metadata": {
        "id": "Vb_xOTwUL5gW"
      },
      "execution_count": null,
      "outputs": []
    },
    {
      "cell_type": "code",
      "source": [
        "data = [5,10,15,20,25,30]\n",
        "median = np.median(data)\n",
        "print(median)  # 17.5\n"
      ],
      "metadata": {
        "colab": {
          "base_uri": "https://localhost:8080/"
        },
        "id": "Vzk13iI8L5j6",
        "outputId": "2a708b80-655e-4a74-d07a-0f49b8142bf7"
      },
      "execution_count": 2,
      "outputs": [
        {
          "output_type": "stream",
          "name": "stdout",
          "text": [
            "17.5\n"
          ]
        }
      ]
    },
    {
      "cell_type": "code",
      "source": [
        "#Mode"
      ],
      "metadata": {
        "id": "wMIpjFCqL5nk"
      },
      "execution_count": null,
      "outputs": []
    },
    {
      "cell_type": "code",
      "source": [
        "from scipy import stats\n",
        "data = [4,4,5,7,8,9,4]\n",
        "mode = stats.mode(data, keepdims=True)\n",
        "print(mode.mode[0])  # 4\n"
      ],
      "metadata": {
        "colab": {
          "base_uri": "https://localhost:8080/"
        },
        "id": "pk_dVAk5L5qu",
        "outputId": "b5530cb6-42aa-42db-afad-9b6aa9b14a57"
      },
      "execution_count": 3,
      "outputs": [
        {
          "output_type": "stream",
          "name": "stdout",
          "text": [
            "4\n"
          ]
        }
      ]
    },
    {
      "cell_type": "code",
      "source": [
        "#Measures of Variability (Spread of Data)"
      ],
      "metadata": {
        "id": "lfm3bZ-jL5uk"
      },
      "execution_count": null,
      "outputs": []
    },
    {
      "cell_type": "code",
      "source": [
        "#Mean Absolute Deviation (MAD)"
      ],
      "metadata": {
        "id": "msb8Z4WLOpHA"
      },
      "execution_count": null,
      "outputs": []
    },
    {
      "cell_type": "code",
      "source": [
        "data = np.array([75,65,73,68,72,67])\n",
        "mad = np.mean(np.abs(data - np.mean(data)))\n",
        "print(mad)\n"
      ],
      "metadata": {
        "colab": {
          "base_uri": "https://localhost:8080/"
        },
        "id": "N-rKUx4YOpKu",
        "outputId": "2e01a616-beaf-459c-a008-311933a23145"
      },
      "execution_count": 4,
      "outputs": [
        {
          "output_type": "stream",
          "name": "stdout",
          "text": [
            "3.3333333333333335\n"
          ]
        }
      ]
    },
    {
      "cell_type": "code",
      "source": [
        "#Variance"
      ],
      "metadata": {
        "id": "NtiwAIG2OpNB"
      },
      "execution_count": null,
      "outputs": []
    },
    {
      "cell_type": "code",
      "source": [
        "data = [22,38,26,35,35]\n",
        "variance = np.var(data)\n",
        "print(variance)\n"
      ],
      "metadata": {
        "colab": {
          "base_uri": "https://localhost:8080/"
        },
        "id": "gtclLt_9OpQP",
        "outputId": "6a5e9e82-d575-406e-d8d9-830fed96d8f6"
      },
      "execution_count": 5,
      "outputs": [
        {
          "output_type": "stream",
          "name": "stdout",
          "text": [
            "37.36\n"
          ]
        }
      ]
    },
    {
      "cell_type": "code",
      "source": [
        "#Standard Deviation (σ)"
      ],
      "metadata": {
        "id": "13siPhsqOpTQ"
      },
      "execution_count": null,
      "outputs": []
    },
    {
      "cell_type": "code",
      "source": [
        "std = np.std(data)\n",
        "print(std)\n"
      ],
      "metadata": {
        "colab": {
          "base_uri": "https://localhost:8080/"
        },
        "id": "Y9D4xtyiOpWX",
        "outputId": "7ea4f724-3539-42cf-8aa2-0d44fd9ab332"
      },
      "execution_count": 6,
      "outputs": [
        {
          "output_type": "stream",
          "name": "stdout",
          "text": [
            "6.11228271597445\n"
          ]
        }
      ]
    },
    {
      "cell_type": "code",
      "source": [
        "#Percentages, Percentiles & Quartiles"
      ],
      "metadata": {
        "id": "xTcsistNOpZR"
      },
      "execution_count": null,
      "outputs": []
    },
    {
      "cell_type": "code",
      "source": [
        "#Percentiles"
      ],
      "metadata": {
        "id": "S8Zk81TPOpcU"
      },
      "execution_count": null,
      "outputs": []
    },
    {
      "cell_type": "code",
      "source": [
        "values = [13,21,21,40,42,48,55,72]\n",
        "p65 = np.percentile(values, 65)\n",
        "print(p65)\n"
      ],
      "metadata": {
        "colab": {
          "base_uri": "https://localhost:8080/"
        },
        "id": "nrmt-sKRPCYW",
        "outputId": "594b6bea-7d5b-46bb-a751-f9e1bbaa478e"
      },
      "execution_count": 7,
      "outputs": [
        {
          "output_type": "stream",
          "name": "stdout",
          "text": [
            "45.3\n"
          ]
        }
      ]
    },
    {
      "cell_type": "code",
      "source": [
        "#Quartiles"
      ],
      "metadata": {
        "id": "ox--Z4cQPCbp"
      },
      "execution_count": null,
      "outputs": []
    },
    {
      "cell_type": "code",
      "source": [
        "values = [13,21,21,40,42,48,55,72]\n",
        "quartiles = np.quantile(values, [0,0.25,0.5,0.75,1])\n",
        "print(quartiles)  # min, Q1, Q2, Q3, max\n"
      ],
      "metadata": {
        "colab": {
          "base_uri": "https://localhost:8080/"
        },
        "id": "f1ZVV1R8PCfF",
        "outputId": "c2dfe0b0-69f6-46f5-b2b7-9d51aff1dc24"
      },
      "execution_count": 8,
      "outputs": [
        {
          "output_type": "stream",
          "name": "stdout",
          "text": [
            "[13.   21.   41.   49.75 72.  ]\n"
          ]
        }
      ]
    },
    {
      "cell_type": "code",
      "source": [
        "#Interquartile Range (IQR)"
      ],
      "metadata": {
        "id": "-OT8qkw0PCib"
      },
      "execution_count": null,
      "outputs": []
    },
    {
      "cell_type": "code",
      "source": [
        "from scipy import stats\n",
        "values = [13,21,21,40,42,48,55,72]\n",
        "iqr = stats.iqr(values)\n",
        "print(iqr)\n"
      ],
      "metadata": {
        "colab": {
          "base_uri": "https://localhost:8080/"
        },
        "id": "AMEbXEa6PClT",
        "outputId": "8ac4995c-fc3b-471d-c4d7-f5f1c5dbcee7"
      },
      "execution_count": 9,
      "outputs": [
        {
          "output_type": "stream",
          "name": "stdout",
          "text": [
            "28.75\n"
          ]
        }
      ]
    },
    {
      "cell_type": "code",
      "source": [],
      "metadata": {
        "id": "OQ1j7EybPCol"
      },
      "execution_count": null,
      "outputs": []
    },
    {
      "cell_type": "code",
      "source": [],
      "metadata": {
        "id": "oYC2frutPCrX"
      },
      "execution_count": null,
      "outputs": []
    },
    {
      "cell_type": "code",
      "source": [],
      "metadata": {
        "id": "1LQuHuFVOpfZ"
      },
      "execution_count": null,
      "outputs": []
    },
    {
      "cell_type": "code",
      "source": [],
      "metadata": {
        "id": "M6OyVexlPJwI"
      },
      "execution_count": null,
      "outputs": []
    },
    {
      "cell_type": "code",
      "source": [],
      "metadata": {
        "id": "khOh6nPHPJ0B"
      },
      "execution_count": null,
      "outputs": []
    },
    {
      "cell_type": "code",
      "source": [],
      "metadata": {
        "id": "6ljAMdMKPJ3C"
      },
      "execution_count": null,
      "outputs": []
    },
    {
      "cell_type": "code",
      "source": [],
      "metadata": {
        "id": "3VwGK3r-PJ6U"
      },
      "execution_count": null,
      "outputs": []
    },
    {
      "cell_type": "code",
      "source": [],
      "metadata": {
        "id": "oT8HqXfPPJ9q"
      },
      "execution_count": null,
      "outputs": []
    }
  ]
}