{
  "nbformat": 4,
  "nbformat_minor": 0,
  "metadata": {
    "colab": {
      "provenance": [],
      "authorship_tag": "ABX9TyO25YffhKOr22E5o3o5mO4l",
      "include_colab_link": true
    },
    "kernelspec": {
      "name": "python3",
      "display_name": "Python 3"
    },
    "language_info": {
      "name": "python"
    }
  },
  "cells": [
    {
      "cell_type": "markdown",
      "metadata": {
        "id": "view-in-github",
        "colab_type": "text"
      },
      "source": [
        "<a href=\"https://colab.research.google.com/github/PratikshaShelke24/ML/blob/main/probability.ipynb\" target=\"_parent\"><img src=\"https://colab.research.google.com/assets/colab-badge.svg\" alt=\"Open In Colab\"/></a>"
      ]
    },
    {
      "cell_type": "markdown",
      "source": [],
      "metadata": {
        "id": "_d7l2NzeXZ2J"
      }
    },
    {
      "cell_type": "code",
      "execution_count": null,
      "metadata": {
        "id": "OWoJEt6iRkgt"
      },
      "outputs": [],
      "source": [
        "#probability ===coin flip, dice roll, and Bayes’ Theorem (medical test)"
      ]
    },
    {
      "cell_type": "code",
      "source": [
        "import random\n",
        "\n",
        "def coin_experiment(n=20):\n",
        "    flips = [random.choice(['H','T']) for _ in range(n)]\n",
        "    heads = flips.count('H')\n",
        "    p_heads = heads / n\n",
        "    return flips, heads, p_heads\n",
        "\n",
        "flips, heads, p_heads = coin_experiment(20)\n",
        "print(\"Flips:\", flips)\n",
        "print(\"Heads:\", heads, \"/\", 20)\n",
        "print(\"Estimated P(Heads):\", p_heads)\n"
      ],
      "metadata": {
        "colab": {
          "base_uri": "https://localhost:8080/"
        },
        "id": "1PlYXf8wXGvW",
        "outputId": "74fc1e6d-6097-4de9-9a1a-13511c7f5deb"
      },
      "execution_count": 1,
      "outputs": [
        {
          "output_type": "stream",
          "name": "stdout",
          "text": [
            "Flips: ['H', 'T', 'H', 'H', 'T', 'T', 'H', 'H', 'H', 'T', 'H', 'H', 'H', 'H', 'H', 'H', 'H', 'H', 'T', 'T']\n",
            "Heads: 14 / 20\n",
            "Estimated P(Heads): 0.7\n"
          ]
        }
      ]
    },
    {
      "cell_type": "code",
      "source": [],
      "metadata": {
        "id": "iVkYxsPvXG0C"
      },
      "execution_count": null,
      "outputs": []
    },
    {
      "cell_type": "code",
      "source": [],
      "metadata": {
        "id": "pBDRzAvZXG4k"
      },
      "execution_count": null,
      "outputs": []
    },
    {
      "cell_type": "code",
      "source": [],
      "metadata": {
        "id": "S28j4icdXG8L"
      },
      "execution_count": null,
      "outputs": []
    },
    {
      "cell_type": "code",
      "source": [],
      "metadata": {
        "id": "2jcsYkrRXG_P"
      },
      "execution_count": null,
      "outputs": []
    },
    {
      "cell_type": "code",
      "source": [],
      "metadata": {
        "id": "DqOCtKvdXHDe"
      },
      "execution_count": null,
      "outputs": []
    },
    {
      "cell_type": "code",
      "source": [],
      "metadata": {
        "id": "22ZrbOOhXHI8"
      },
      "execution_count": null,
      "outputs": []
    },
    {
      "cell_type": "code",
      "source": [],
      "metadata": {
        "id": "X82qndUNXHOE"
      },
      "execution_count": null,
      "outputs": []
    }
  ]
}